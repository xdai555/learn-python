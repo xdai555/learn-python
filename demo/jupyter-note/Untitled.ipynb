{
 "cells": [
  {
   "cell_type": "code",
   "execution_count": 5,
   "id": "ace77189-050c-484b-9c83-994fdcf3f169",
   "metadata": {},
   "outputs": [],
   "source": [
    "import lxml\n",
    "from lxml.builder import ElementMaker\n",
    "from ncclient import manager\n",
    "\n",
    "BASE_NS_1_0 = \"urn:ietf:params:xml:ns:netconf:base:1.0\"\n",
    "H3C_BASE_1_0 = \"http://www.h3c.com/netconf/base:1.0\"\n",
    "H3C_CONFIG_1_0 = \"http://www.h3c.com/netconf/config:1.0\"\n",
    "H3C_DATA_1_0 = \"http://www.h3c.com/netconf/data:1.0\"\n",
    "H3C_DATA_1_0_C = '{' + H3C_DATA_1_0 + '}'\n",
    "H3C_ACTION_1_0 = \"http://www.h3c.com/netconf/action:1.0\"\n",
    "\n",
    "host = {\n",
    "    'host': '192.168.56.20',\n",
    "    'username': 'netdevops',\n",
    "    'password': 'netdevops',\n",
    "    'port': 830,\n",
    "    'device_params':{'name': 'h3c'},\n",
    "}\n",
    "conn = manager.connect(**host,hostkey_verify=False,look_for_keys=False)"
   ]
  },
  {
   "cell_type": "code",
   "execution_count": null,
   "id": "28193faf-9b8b-4950-8edd-1e0189f50f12",
   "metadata": {},
   "outputs": [],
   "source": [
    "iface_key_map = {\n",
    "    '接口名称': 'Name',\n",
    "    'MTU': 'ActualMTU',\n",
    "    'IP 地址':'InetAddressIPV4',\n",
    "}\n",
    "iface_key_map.get('Name',{}).get('111222','111')"
   ]
  },
  {
   "cell_type": "markdown",
   "id": "ba760428-f554-4135-8229-f6a519c03070",
   "metadata": {},
   "source": [
    "对设备进行配置锁定，防止同时操作出现问题："
   ]
  },
  {
   "cell_type": "code",
   "execution_count": null,
   "id": "ac043546-e75d-4c91-be36-20374f531268",
   "metadata": {},
   "outputs": [],
   "source": [
    "# print(conn.lock(target='running'))\n",
    "print(conn.unlock('running'))"
   ]
  },
  {
   "cell_type": "markdown",
   "id": "2439f08e-3251-4fa1-9998-e983eae2e4dd",
   "metadata": {},
   "source": [
    "返回值为以下内容：\n",
    "```xml\n",
    "<?xml version=\"1.0\" encoding=\"UTF-8\"?><rpc-reply xmlns=\"urn:ietf:params:xml:ns:netconf:base:1.0\" message-id=\"urn:uuid:a5cf71cd-8505-4740-8165-dbff76489147\"><ok/></rpc-reply>\n",
    "```\n",
    "再次登录到设备，无法进行配置操作。\n",
    "```\n",
    "[R1]int g0/1\n",
    "The system has been locked by NETCONF. Please try later.\n",
    "```"
   ]
  },
  {
   "cell_type": "code",
   "execution_count": 6,
   "id": "318de759-1110-4f22-88f6-d36c11375259",
   "metadata": {},
   "outputs": [
    {
     "output_type": "stream",
     "name": "stdout",
     "text": [
      "b'<top xmlns=\"http://www.h3c.com/netconf/data:1.0\"><Ifmgr><Interfaces><Interface><Name/></Interface></Interfaces></Ifmgr></top>'\n"
     ]
    }
   ],
   "source": [
    "from lxml import etree\n",
    "# H3C 自有部分默认情况下都以 top 元素为起点\n",
    "E = ElementMaker(namespace=H3C_DATA_1_0, nsmap={None: H3C_DATA_1_0})\n",
    "get_iface = E.top(\n",
    "    E.Ifmgr(\n",
    "        E.Interfaces(\n",
    "            E.Interface(\n",
    "                E.Name()\n",
    "            )\n",
    "        )\n",
    "    )\n",
    ")\n",
    "print(etree.tostring(get_iface))"
   ]
  },
  {
   "cell_type": "markdown",
   "id": "72a2d2e8-f8f2-4953-8c2d-fb34fecd16f0",
   "metadata": {},
   "source": [
    "```xml\n",
    "b'<top xmlns=\"http://www.h3c.com/netconf/data:1.0\"><Ifmgr><Interfaces><Interface><Name/></Interface></Interfaces></Ifmgr></top>'\n",
    "```"
   ]
  },
  {
   "cell_type": "code",
   "execution_count": 23,
   "id": "1617e963-2315-44d7-a105-f225340b5ab7",
   "metadata": {},
   "outputs": [
    {
     "output_type": "stream",
     "name": "stdout",
     "text": [
      "['ERROR_CLS', '__class__', '__delattr__', '__dict__', '__dir__', '__doc__', '__eq__', '__format__', '__ge__', '__getattribute__', '__gt__', '__hash__', '__init__', '__init_subclass__', '__le__', '__lt__', '__module__', '__ne__', '__new__', '__reduce__', '__reduce_ex__', '__repr__', '__setattr__', '__sizeof__', '__str__', '__subclasshook__', '__weakref__', '_data', '_errors', '_huge_tree', '_parsed', '_parsing_hook', '_raw', '_root', 'data', 'data_ele', 'data_xml', 'error', 'errors', 'ok', 'parse', 'xml']\n"
     ]
    }
   ],
   "source": [
    "ret = conn.get(('subtree', get_iface))\n",
    "print(dir(ret))"
   ]
  },
  {
   "cell_type": "code",
   "execution_count": 27,
   "metadata": {},
   "outputs": [
    {
     "output_type": "stream",
     "name": "stdout",
     "text": [
      "['__bool__', '__class__', '__contains__', '__copy__', '__deepcopy__', '__delattr__', '__delitem__', '__dir__', '__doc__', '__eq__', '__format__', '__ge__', '__getattribute__', '__getitem__', '__gt__', '__hash__', '__init__', '__init_subclass__', '__iter__', '__le__', '__len__', '__lt__', '__ne__', '__new__', '__reduce__', '__reduce_ex__', '__repr__', '__reversed__', '__setattr__', '__setitem__', '__sizeof__', '__str__', '__subclasshook__', '_init', 'addnext', 'addprevious', 'append', 'attrib', 'base', 'clear', 'cssselect', 'extend', 'find', 'findall', 'findtext', 'get', 'getchildren', 'getiterator', 'getnext', 'getparent', 'getprevious', 'getroottree', 'index', 'insert', 'items', 'iter', 'iterancestors', 'iterchildren', 'iterdescendants', 'iterfind', 'itersiblings', 'itertext', 'keys', 'makeelement', 'nsmap', 'prefix', 'remove', 'replace', 'set', 'sourceline', 'tag', 'tail', 'text', 'values', 'xpath']\n"
     ]
    }
   ],
   "source": [
    "print(dir(ret.data_ele))"
   ]
  },
  {
   "cell_type": "code",
   "execution_count": 66,
   "metadata": {},
   "outputs": [],
   "source": [
    "a = ret.data_ele"
   ]
  },
  {
   "cell_type": "code",
   "execution_count": 86,
   "metadata": {},
   "outputs": [
    {
     "output_type": "execute_result",
     "data": {
      "text/plain": [
       "[]"
      ]
     },
     "metadata": {},
     "execution_count": 86
    }
   ],
   "source": [
    "a.findall(\"Name\")"
   ]
  },
  {
   "cell_type": "markdown",
   "id": "3e41f6d0-0a12-4081-9eaf-0a24e771a1be",
   "metadata": {},
   "source": [
    "```xml\n",
    "<?xml version=\"1.0\" encoding=\"UTF-8\"?><rpc-reply xmlns=\"urn:ietf:params:xml:ns:netconf:base:1.0\" message-id=\"urn:uuid:7638826e-af96-4542-a541-3430ea08d232\"><data><top xmlns=\"http://www.h3c.com/netconf/data:1.0\"><Ifmgr><Interfaces><Interface><IfIndex>1</IfIndex><Name>GigabitEthernet0/0</Name></Interface><Interface><IfIndex>2</IfIndex><Name>GigabitEthernet0/1</Name></Interface><Interface><IfIndex>3</IfIndex><Name>GigabitEthernet0/2</Name></Interface><Interface><IfIndex>4</IfIndex><Name>Serial1/0</Name></Interface><Interface><IfIndex>5</IfIndex><Name>Serial2/0</Name></Interface><Interface><IfIndex>6</IfIndex><Name>Serial3/0</Name></Interface><Interface><IfIndex>7</IfIndex><Name>Serial4/0</Name></Interface><Interface><IfIndex>8</IfIndex><Name>GigabitEthernet5/0</Name></Interface><Interface><IfIndex>9</IfIndex><Name>GigabitEthernet5/1</Name></Interface><Interface><IfIndex>10</IfIndex><Name>GigabitEthernet6/0</Name></Interface><Interface><IfIndex>11</IfIndex><Name>GigabitEthernet6/1</Name></Interface><Interface><IfIndex>129</IfIndex><Name>NULL0</Name></Interface><Interface><IfIndex>130</IfIndex><Name>InLoopBack0</Name></Interface><Interface><IfIndex>131</IfIndex><Name>Register-Tunnel0</Name></Interface></Interfaces></Ifmgr></top></data></rpc-reply>\n",
    "```"
   ]
  },
  {
   "cell_type": "code",
   "execution_count": 8,
   "id": "9ee6dc99-8b43-4bfe-8bb3-66b8a8f4629e",
   "metadata": {},
   "outputs": [],
   "source": [
    "# 由于只能通过 IfIndex 来配置接口，所以要先根据接口名称来获取到 IfIndex\n",
    "# TODO: 可以做获取所有接口信息的函数并存入数据库，实际操作的时候，可以让用户直接下拉选择；\n",
    "# 每次操作的时候获取一次最新数据，如果不操作，则定期更新\n",
    "def _get_iface_index(iface_name, conn):\n",
    "    \"\"\"通过接口名称来获取接口索引\"\"\"\n",
    "    E = ElementMaker(namespace=H3C_DATA_1_0, nsmap={None: H3C_DATA_1_0})\n",
    "    get_iface = E.top(\n",
    "        E.Ifmgr(\n",
    "            E.Interfaces(\n",
    "                E.Interface(\n",
    "                    E.Name(iface_name)\n",
    "                )\n",
    "            )\n",
    "        )\n",
    "    )\n",
    "    nc_get_reply = conn.get(('subtree', get_iface))\n",
    "    reply_data = nc_get_reply.data_ele.find('.//{}{}'.format(H3C_DATA_1_0_C, 'IfIndex'))\n",
    "    if reply_data is None:\n",
    "        return ''\n",
    "    return reply_data.text\n",
    "\n",
    "# ret = _get_iface_index('GigabitEthernet0/1',conn)\n",
    "# print(ret)"
   ]
  },
  {
   "cell_type": "code",
   "execution_count": 11,
   "id": "f37cac3c-52db-454f-ace8-e8377e066b23",
   "metadata": {},
   "outputs": [
    {
     "output_type": "stream",
     "name": "stdout",
     "text": [
      "<?xml version=\"1.0\" encoding=\"UTF-8\"?><rpc-reply xmlns=\"urn:ietf:params:xml:ns:netconf:base:1.0\" message-id=\"urn:uuid:623a5b0e-2d40-4bec-8ca0-6d629415e456\"><ok/></rpc-reply>\n"
     ]
    }
   ],
   "source": [
    "# 获取到接口索引后进行下发接口配置\n",
    "iface = 'GigabitEthernet0/1'\n",
    "desc = 'Configured by netconf111'\n",
    "E = ElementMaker(namespace=H3C_CONFIG_1_0, nsmap={None: H3C_CONFIG_1_0})\n",
    "C = ElementMaker(namespace=BASE_NS_1_0, nsmap = {None: BASE_NS_1_0})\n",
    "config = C.config(\n",
    "    E.top(\n",
    "    E.Ifmgr(\n",
    "        E.Interfaces(\n",
    "            E.Interface(\n",
    "                E.IfIndex(_get_iface_index(iface,conn)),\n",
    "                E.Description(desc)\n",
    "            )\n",
    "        )\n",
    "    )\n",
    "))\n",
    "\n",
    "ret = conn.edit_config(target='running',config=config)\n",
    "print(ret)\n",
    "\n",
    "# 追加xml的方法：find 到对应的 tag，使用 append 方法\n",
    "# 例如：find_in_action('Interface', top).append(E.Remove())"
   ]
  },
  {
   "cell_type": "code",
   "execution_count": null,
   "id": "bf1a259b-3a38-4755-91b1-2fb420121ed3",
   "metadata": {},
   "outputs": [],
   "source": [
    "from pyhpecw7.comware import HPCOM7\n",
    "from pyhpecw7.features.interface import Interface\n",
    "conn1 = HPCOM7(**host)\n",
    "conn1.open()"
   ]
  },
  {
   "cell_type": "code",
   "execution_count": null,
   "id": "33439e88-80eb-481c-b2a9-aeb904faae9e",
   "metadata": {},
   "outputs": [],
   "source": [
    "interface = Interface(conn1, 'gi0/2')\n",
    "iface_config = {\n",
    "    'admin': '1',\n",
    "    'description': 'configured by hpcmw7',\n",
    "}\n",
    "interface.build(**iface_config)\n",
    "interface.update()\n",
    "interface.get_config()"
   ]
  },
  {
   "cell_type": "code",
   "execution_count": null,
   "id": "f0a10a30-3206-46b2-85ff-d00e005adc69",
   "metadata": {},
   "outputs": [],
   "source": [
    "#  不能拆分子接口，修改代码\n",
    "interface._get_number('Gi1/1.10:100')"
   ]
  },
  {
   "cell_type": "code",
   "execution_count": null,
   "id": "fe259bd7-d652-4856-811f-2f6dde6825d9",
   "metadata": {},
   "outputs": [],
   "source": [
    "def reverse_value_map(key_map, value_map):\n",
    "    \"\"\"Utility function for creating a\n",
    "    \"reverse\" value map from a given key map and value map.\n",
    "    \"\"\"\n",
    "    r_value_map = {}\n",
    "    for k, v in value_map.items():\n",
    "        sub_values = r_value_map[key_map[k]] = {}\n",
    "        for k2, v2 in v.items():\n",
    "            sub_values[v2] = k2\n",
    "\n",
    "    return r_value_map\n",
    "\n",
    "_key_map = {\n",
    "            'admin': 'AdminStatus',\n",
    "            'speed': 'ConfigSpeed',\n",
    "            'duplex': 'ConfigDuplex',\n",
    "            'description': 'Description',\n",
    "            'type': 'PortLayer'\n",
    "        }\n",
    "_value_map = {\n",
    "            'AdminStatus': {'1': 'up',\n",
    "                            '2': 'down'},\n",
    "            'ConfigSpeed': {'1': 'auto', '2': '10',\n",
    "                            '4': '100', '32': '1000',\n",
    "                            '1024': '10000', '4096': '20000',\n",
    "                            '8192': '40000', '16384': '100000'},\n",
    "            'ConfigDuplex': {'1': 'full',\n",
    "                             '2': 'half',\n",
    "                             '3': 'auto'},\n",
    "            'PortLayer': {'1': 'bridged',\n",
    "                          '2': 'routed'}\n",
    "        }\n",
    "_r_key_map = dict(reversed(item) for item in _key_map.items())\n",
    "print(_r_key_map)\n",
    "_r_value_map = reverse_value_map(_r_key_map, _value_map)\n",
    "print(_r_value_map)"
   ]
  },
  {
   "cell_type": "code",
   "execution_count": null,
   "id": "108fa8bf-93a4-4a32-bc1f-4908eefaffaa",
   "metadata": {},
   "outputs": [],
   "source": [
    "class A():\n",
    "    def __init__(self, a = None):\n",
    "        if a:\n",
    "            self.a = a\n",
    "    def func(self, a):\n",
    "        dic['a'] = self.a\n",
    "        print(a)\n",
    "\n",
    "a = '111'\n",
    "aa = A()\n",
    "dir(aa.func(a))"
   ]
  },
  {
   "cell_type": "code",
   "execution_count": null,
   "id": "8ede7b41-346a-45b3-b3f1-e6f4d2293693",
   "metadata": {},
   "outputs": [],
   "source": []
  },
  {
   "cell_type": "code",
   "execution_count": null,
   "id": "3cb84618-8aea-462c-8be8-2b37568b7b47",
   "metadata": {},
   "outputs": [],
   "source": []
  }
 ],
 "metadata": {
  "kernelspec": {
   "display_name": "Python 3",
   "language": "python",
   "name": "python3"
  },
  "language_info": {
   "codemirror_mode": {
    "name": "ipython",
    "version": 3
   },
   "file_extension": ".py",
   "mimetype": "text/x-python",
   "name": "python",
   "nbconvert_exporter": "python",
   "pygments_lexer": "ipython3",
   "version": "3.8.0"
  }
 },
 "nbformat": 4,
 "nbformat_minor": 5
}