{
 "cells": [
  {
   "cell_type": "markdown",
   "source": [
    "# Python Cookbook 3.0 中文版\n",
    "\n",
    "## 第一章：数据结构和算法\n",
    "\n",
    "### 1.1 解压序列赋值给多个变量\n",
    "\n",
    "任何的序列（或者是可迭代对象）可以通过一个简单的赋值语句解压并赋值给多\n",
    "个变量。唯一的前提就是变量的数量必须跟序列元素的数量是一样的。"
   ],
   "metadata": {}
  },
  {
   "cell_type": "code",
   "execution_count": 36,
   "source": [
    "p = (4, 5)\n",
    "x, y = p\n",
    "print(x, y)"
   ],
   "outputs": [
    {
     "output_type": "stream",
     "name": "stdout",
     "text": [
      "4 5\n"
     ]
    }
   ],
   "metadata": {}
  },
  {
   "cell_type": "code",
   "execution_count": 37,
   "source": [
    "data = ['ACME', 50, 91.1, (2021, 10, 10)]\r\n",
    "name, shares, price, date = data\r\n",
    "print(name, shares, price, date)"
   ],
   "outputs": [
    {
     "output_type": "stream",
     "name": "stdout",
     "text": [
      "ACME 50 91.1 (2021, 10, 10)\n"
     ]
    }
   ],
   "metadata": {}
  },
  {
   "cell_type": "code",
   "execution_count": 38,
   "source": [
    "name, shares, price, (year, mon, day) = data\r\n",
    "print(year, day)"
   ],
   "outputs": [
    {
     "output_type": "stream",
     "name": "stdout",
     "text": [
      "2021 10\n"
     ]
    }
   ],
   "metadata": {}
  },
  {
   "cell_type": "markdown",
   "source": [
    "如果变量个数和序列元素的个数不匹配，会产生一个异常。"
   ],
   "metadata": {}
  },
  {
   "cell_type": "code",
   "execution_count": 39,
   "source": [
    "p = (x, y)\r\n",
    "x, y, z = p"
   ],
   "outputs": [
    {
     "output_type": "error",
     "ename": "ValueError",
     "evalue": "not enough values to unpack (expected 3, got 2)",
     "traceback": [
      "\u001b[1;31m---------------------------------------------------------------------------\u001b[0m",
      "\u001b[1;31mValueError\u001b[0m                                Traceback (most recent call last)",
      "\u001b[1;32m~\\AppData\\Local\\Temp/ipykernel_7096/3006042206.py\u001b[0m in \u001b[0;36m<module>\u001b[1;34m\u001b[0m\n\u001b[0;32m      1\u001b[0m \u001b[0mp\u001b[0m \u001b[1;33m=\u001b[0m \u001b[1;33m(\u001b[0m\u001b[0mx\u001b[0m\u001b[1;33m,\u001b[0m \u001b[0my\u001b[0m\u001b[1;33m)\u001b[0m\u001b[1;33m\u001b[0m\u001b[1;33m\u001b[0m\u001b[0m\n\u001b[1;32m----> 2\u001b[1;33m \u001b[0mx\u001b[0m\u001b[1;33m,\u001b[0m \u001b[0my\u001b[0m\u001b[1;33m,\u001b[0m \u001b[0mz\u001b[0m \u001b[1;33m=\u001b[0m \u001b[0mp\u001b[0m\u001b[1;33m\u001b[0m\u001b[1;33m\u001b[0m\u001b[0m\n\u001b[0m",
      "\u001b[1;31mValueError\u001b[0m: not enough values to unpack (expected 3, got 2)"
     ]
    }
   ],
   "metadata": {}
  },
  {
   "cell_type": "markdown",
   "source": [
    "这种解压赋值可以用在任何可迭代对象上面，而不仅仅是列表或者元组。包括字符串，文件对象，迭代器和生成器。"
   ],
   "metadata": {}
  },
  {
   "cell_type": "code",
   "execution_count": null,
   "source": [
    "s = \"Hello\"\r\n",
    "a, b, c, d, e = s\r\n",
    "print(a,b,c,d,e)"
   ],
   "outputs": [],
   "metadata": {}
  },
  {
   "cell_type": "markdown",
   "source": [
    "如果只想解压一部分，丢弃掉其他的值，可以使用任意的变量名去占位，一般使用 `_` 来表示。"
   ],
   "metadata": {}
  },
  {
   "cell_type": "code",
   "execution_count": null,
   "source": [
    "data = [ 'ACME', 50, 91.1, (2012, 12, 21) ]\r\n",
    "_, shares, price, _ = data\r\n",
    "print(shares, price)"
   ],
   "outputs": [],
   "metadata": {}
  },
  {
   "cell_type": "markdown",
   "source": [
    "### 1.2 解压可迭代对象赋值给多个变量\n",
    "\n",
    "如果一个可迭代对象的元素个数超过变量个数时，会抛出一个 `ValueError` ，可以使用星号表达式来解决这个问题，例如想要统计一下家庭作业的平均成绩，但是要排除掉第一个和最后一个分数："
   ],
   "metadata": {}
  },
  {
   "cell_type": "code",
   "execution_count": null,
   "source": [
    "def drop_first_last(grades):\r\n",
    "    first, *middle, last = grades\r\n",
    "    return avg(middle)"
   ],
   "outputs": [],
   "metadata": {}
  },
  {
   "cell_type": "markdown",
   "source": [
    "星号表达式可以用在列表的开始部分，也可以用在列表的末尾。星号表达式在迭代元素为可变长元组的序列时也是很有用的。"
   ],
   "metadata": {}
  },
  {
   "cell_type": "code",
   "execution_count": null,
   "source": [
    "records = [\r\n",
    "    ('foo', 1, 2),\r\n",
    "    ('bar', 'hello'),\r\n",
    "    ('foo', 3, 4),\r\n",
    "    ]\r\n",
    "\r\n",
    "def do_foo(x, y):\r\n",
    "    print('foo', x, y)\r\n",
    "\r\n",
    "def do_bar(s):\r\n",
    "    print('bar', s)\r\n",
    "\r\n",
    "for tag, *args in records:\r\n",
    "    if tag == 'foo':\r\n",
    "        do_foo(*args)\r\n",
    "    elif tag == 'bar':\r\n",
    "        do_bar(*args)"
   ],
   "outputs": [],
   "metadata": {}
  },
  {
   "cell_type": "markdown",
   "source": [
    "星号解压语法在字符串操作的时候也会很有用，比如字符串的分割。"
   ],
   "metadata": {}
  },
  {
   "cell_type": "code",
   "execution_count": null,
   "source": [
    "line = 'nobody:*:-2:-2:Unprivileged User:/var/empty:/usr/bin/false'\r\n",
    "uname, *fields, homedir, sh = line.split(':')\r\n",
    "print(uname, homedir, sh)"
   ],
   "outputs": [],
   "metadata": {}
  },
  {
   "cell_type": "markdown",
   "source": [
    "### 1.3 保留最后 N 个元素"
   ],
   "metadata": {}
  },
  {
   "cell_type": "code",
   "execution_count": null,
   "source": [],
   "outputs": [],
   "metadata": {}
  },
  {
   "cell_type": "markdown",
   "source": [
    "## 第二章：字符串和文本\n",
    "\n",
    "### 2.1 使用多个界定符分割字符串\n",
    "\n",
    "string 对象的 split() 方法只适应于非常简单的字符串分割情形，它并不允许有多个分隔符或者是分隔符周围不确定的空格，当需要更加灵活的切割字符串的时候，最好使用 re.split() 方法："
   ],
   "metadata": {}
  },
  {
   "cell_type": "code",
   "execution_count": null,
   "source": [
    "line = 'asdf fjdk; afed, fjek,asdf, foo'\r\n",
    "import re\r\n",
    "re.split(r'[\\s;,]\\s*', line)"
   ],
   "outputs": [],
   "metadata": {}
  },
  {
   "cell_type": "markdown",
   "source": [
    "如果需要保留分隔符，可以使用分组来实现："
   ],
   "metadata": {}
  },
  {
   "cell_type": "code",
   "execution_count": null,
   "source": [
    "fields = re.split(r'(;|,|\\s)\\s*', line)\r\n",
    "fields"
   ],
   "outputs": [],
   "metadata": {}
  },
  {
   "cell_type": "code",
   "execution_count": null,
   "source": [
    "# 取值，[::2] 指的是隔一个索引取一个值，[1::2] 指的是从第一个值开始隔一个取一个\r\n",
    "delemiters = fields[1::2]\r\n",
    "delemiters"
   ],
   "outputs": [],
   "metadata": {}
  },
  {
   "cell_type": "markdown",
   "source": [
    "如果想保留分割字符串到结果列表中去，但仍然需要使用到括号来分组正则表达式的话，确保分组是非捕获分组，形如 (?:...)："
   ],
   "metadata": {}
  },
  {
   "cell_type": "code",
   "execution_count": null,
   "source": [
    "re.split(r'(?:,|;|\\s)\\s*', line)"
   ],
   "outputs": [],
   "metadata": {}
  },
  {
   "cell_type": "markdown",
   "source": [
    "### 2.2 字符串开头或结尾匹配\n",
    "\n",
    "指定文本模式去检查字符串的开头或者结尾，比如文件名的后缀、URL Scheme 等。"
   ],
   "metadata": {}
  },
  {
   "cell_type": "code",
   "execution_count": null,
   "source": [
    "filename = 'spam.txt'\r\n",
    "filename.endswith('.txt')"
   ],
   "outputs": [],
   "metadata": {}
  },
  {
   "cell_type": "code",
   "execution_count": null,
   "source": [
    "filename.startswith('file:')"
   ],
   "outputs": [],
   "metadata": {}
  },
  {
   "cell_type": "code",
   "execution_count": null,
   "source": [
    "url = 'http://www.python.org'\r\n",
    "url.startswith('http:')"
   ],
   "outputs": [],
   "metadata": {}
  },
  {
   "cell_type": "markdown",
   "source": [
    "如果想要匹配多种可能，需要将所有的匹配项放入到一个元组中，然后传给 `startswith()` 或者 `endswith()` 方法："
   ],
   "metadata": {}
  },
  {
   "cell_type": "code",
   "execution_count": null,
   "source": [
    "filenames = [ 'Makefile', 'foo.c', 'bar.py', 'spam.c', 'spam.h' ]\r\n",
    "[ name for name in filenames if name.endswith(('.c', '.h')) ]"
   ],
   "outputs": [],
   "metadata": {}
  },
  {
   "cell_type": "code",
   "execution_count": null,
   "source": [
    "# all() 函数用于判断给定的可迭代参数 iterable 中的所有元素是否都为 TRUE，如果是返回 True，否则返回 False。\r\n",
    "# any() 函数用于判断给定的可迭代参数 iterable 是否全部为 False，则返回 False，如果有一个为 True，则返回 True\r\n",
    "any(name.endswith('.py') for name in filenames)"
   ],
   "outputs": [],
   "metadata": {}
  },
  {
   "cell_type": "code",
   "execution_count": null,
   "source": [
    "# 一个实例，判断文件夹中是否存在指定的文件类型\r\n",
    "import os\r\n",
    "if any(name.endswith(('.c', '.h')) for name in os.listdir(dirname)): ..."
   ],
   "outputs": [],
   "metadata": {}
  },
  {
   "cell_type": "markdown",
   "source": [
    "### 2.3 用 Shell 通配符匹配字符串\n",
    "\n",
    "`fnmatch()` 函数匹配能力介于简单的字符串方法和强大的正则表达式之间，如果在数据处理操作中只需要简单的通配符就能完成的时候，这通常是一个比较合理的方案。此模块的主要作用是文件名称的匹配，并且匹配的模式使用的Unix shell风格。"
   ],
   "metadata": {}
  },
  {
   "cell_type": "code",
   "execution_count": null,
   "source": [
    "from fnmatch import fnmatch, fnmatchcase"
   ],
   "outputs": [],
   "metadata": {}
  },
  {
   "cell_type": "code",
   "execution_count": null,
   "source": [
    "fnmatch('foo.txt', '*.txt')"
   ],
   "outputs": [],
   "metadata": {}
  },
  {
   "cell_type": "code",
   "execution_count": null,
   "source": [
    "fnmatch('foo.txt', '?oo.txt')"
   ],
   "outputs": [],
   "metadata": {}
  },
  {
   "cell_type": "code",
   "execution_count": null,
   "source": [
    "names = ['Dat1.csv', 'Dat2.csv', 'config.ini', 'foo.py']\r\n",
    "[name for name in names if fnmatch(name, 'Dat*.csv')]"
   ],
   "outputs": [],
   "metadata": {}
  },
  {
   "cell_type": "markdown",
   "source": [
    "在处理非文件名的字符串的时候，也可以用这个模块。"
   ],
   "metadata": {}
  },
  {
   "cell_type": "markdown",
   "source": [
    "### 2.4 字符串匹配和搜索\n",
    "\n",
    "如果你想匹配的是字面字符串，那么你通常只需要调用基本字符串方法就行，比如 str.find() , str.endswith() , str.startswith() 或者类似的方法。对于复杂的匹配要使用正则表达式和 re 模块。"
   ],
   "metadata": {}
  },
  {
   "cell_type": "code",
   "execution_count": null,
   "source": [
    "# match() 总是从字符串开始去匹配，如果想查找字符串任意部分的模式出现位置，使用 findall() 方法去代替\r\n",
    "import re\r\n",
    "text1 = '11/27/2012  3/13/2013'\r\n",
    "text2 = 'Today is 11/27/2012. PyCon starts 3/13/2013.'\r\n",
    "datepat = re.compile(r'\\d+/\\d+/\\d+')\r\n",
    "r = re.match(datepat, text1)\r\n",
    "print(r.group())\r\n",
    "r = re.findall(datepat, text2)\r\n",
    "print(r)"
   ],
   "outputs": [],
   "metadata": {}
  },
  {
   "cell_type": "markdown",
   "source": [
    "定义正则表达式时，通常会使用括号来捕获分组，这样可以把每个分组的内容提取出来，使得后面的处理更加简单："
   ],
   "metadata": {}
  },
  {
   "cell_type": "code",
   "execution_count": null,
   "source": [
    "import re\r\n",
    "datepat = re.compile(r'(\\d+)/(\\d+)/(\\d+)')\r\n",
    "text1 = '11/27/2012  3/13/2013'\r\n",
    "r = re.match(datepat, text1)\r\n",
    "print(r.groups())\r\n",
    "month, day, year = r.groups()\r\n",
    "print(month, day, year)"
   ],
   "outputs": [],
   "metadata": {}
  },
  {
   "cell_type": "code",
   "execution_count": null,
   "source": [
    "text2 = 'Today is 11/27/2012. PyCon starts 3/13/2013.'\r\n",
    "r = re.findall(datepat, text2)\r\n",
    "print(r)"
   ],
   "outputs": [],
   "metadata": {}
  },
  {
   "cell_type": "code",
   "execution_count": null,
   "source": [
    "# findall() 返回的是列表，如果返回的数据比较多，可以使用 finditer() 返回迭代器\r\n",
    "r = re.finditer(datepat, text2)\r\n",
    "print([_.groups() for _ in r])"
   ],
   "outputs": [],
   "metadata": {}
  },
  {
   "cell_type": "markdown",
   "source": [
    "### 2.5 字符串搜索和替换"
   ],
   "metadata": {
    "jp-MarkdownHeadingCollapsed": true,
    "tags": []
   }
  },
  {
   "cell_type": "code",
   "execution_count": null,
   "source": [
    "points = [ (1, 2), (3, 4), (5, 6), (7, 8) ]\r\n",
    "\r\n",
    "import math\r\n",
    "from functools import partial\r\n",
    "\r\n",
    "def distance(p1, p2):\r\n",
    "    x1, y1 = p1\r\n",
    "    x2, y2 = p2\r\n",
    "    return math.hypot(x2-x1, y2-y1)\r\n"
   ],
   "outputs": [],
   "metadata": {}
  },
  {
   "cell_type": "code",
   "execution_count": null,
   "source": [
    "pt = (4, 3)"
   ],
   "outputs": [],
   "metadata": {}
  },
  {
   "cell_type": "code",
   "execution_count": null,
   "source": [
    "class A:\r\n",
    "    def spam(self, x):\r\n",
    "        print('in class A', x)\r\n",
    "    def foo(self):\r\n",
    "        print('in class A')\r\n",
    "        \r\n",
    "class B1:\r\n",
    "    def __init__(self):\r\n",
    "        self._a = A()\r\n",
    "        \r\n",
    "    def spam(self, x):\r\n",
    "        return self._a.spam(x)\r\n",
    "    def foo(self):\r\n",
    "        return self._a.foo()\r\n",
    "    def bar(self):\r\n",
    "        pass"
   ],
   "outputs": [],
   "metadata": {}
  },
  {
   "cell_type": "code",
   "execution_count": null,
   "source": [
    "b = B1()"
   ],
   "outputs": [],
   "metadata": {}
  },
  {
   "cell_type": "code",
   "execution_count": null,
   "source": [
    "b.spam(111)"
   ],
   "outputs": [],
   "metadata": {}
  },
  {
   "cell_type": "code",
   "execution_count": null,
   "source": [
    "class B2:\r\n",
    "    def __init__(self):\r\n",
    "        self._a = A()\r\n",
    "    def __getattr__(self, name):\r\n",
    "        return getattr(self._a, name)"
   ],
   "outputs": [],
   "metadata": {}
  },
  {
   "cell_type": "code",
   "execution_count": null,
   "source": [
    "b2 = B2()"
   ],
   "outputs": [],
   "metadata": {}
  },
  {
   "cell_type": "code",
   "execution_count": null,
   "source": [
    "b2.spam(222)"
   ],
   "outputs": [],
   "metadata": {}
  },
  {
   "cell_type": "markdown",
   "source": [
    "### 代理模式"
   ],
   "metadata": {
    "jp-MarkdownHeadingCollapsed": true,
    "tags": []
   }
  },
  {
   "cell_type": "code",
   "execution_count": null,
   "source": [
    "class Proxy:\r\n",
    "    def __init__(self, obj):\r\n",
    "        self._obj = obj\r\n",
    "    def __getattr__(self, name):\r\n",
    "        print('Getattr:',name)\r\n",
    "        return getattr(self._obj, name)\r\n",
    "    \r\n",
    "    def __setattr__(self, name, value):\r\n",
    "        if name.startswith('_'):\r\n",
    "            super().__setattr__(name, value)\r\n",
    "        else:\r\n",
    "            print('setattr:', name, value)\r\n",
    "            setattr(self._obj, name, value)\r\n",
    "            \r\n",
    "    def __delattr__(self, name):\r\n",
    "        if name.startswith('_'):\r\n",
    "            super.__delattr__(name)\r\n",
    "        else:\r\n",
    "            print('Delattr\"', name)\r\n",
    "            delattr(self._obj, name)"
   ],
   "outputs": [],
   "metadata": {}
  },
  {
   "cell_type": "code",
   "execution_count": null,
   "source": [
    "class Spam:\r\n",
    "    def __init__(self, x):\r\n",
    "        self.x = x\r\n",
    "    def bar(self, y):\r\n",
    "        print('Spam.bar:', slef.x, y)\r\n",
    "        "
   ],
   "outputs": [],
   "metadata": {}
  },
  {
   "cell_type": "code",
   "execution_count": null,
   "source": [
    "s = Spam(2)"
   ],
   "outputs": [],
   "metadata": {}
  },
  {
   "cell_type": "code",
   "execution_count": null,
   "source": [
    "s.x"
   ],
   "outputs": [],
   "metadata": {}
  },
  {
   "cell_type": "code",
   "execution_count": null,
   "source": [
    "s1 = Proxy(s)"
   ],
   "outputs": [],
   "metadata": {}
  },
  {
   "cell_type": "code",
   "execution_count": null,
   "source": [
    "s.x = 20\r\n",
    "s.x"
   ],
   "outputs": [],
   "metadata": {}
  },
  {
   "cell_type": "code",
   "execution_count": null,
   "source": [
    "s1.x"
   ],
   "outputs": [],
   "metadata": {}
  },
  {
   "cell_type": "markdown",
   "source": [
    "### 上下文管理"
   ],
   "metadata": {
    "tags": []
   }
  },
  {
   "cell_type": "code",
   "execution_count": null,
   "source": [
    "class A():\r\n",
    "    def __init__(self, ip=None, username=None, password=None, port=22, test=111):\r\n",
    "        self.ip = ip\r\n",
    "        self.username = username\r\n",
    "        self.password = password\r\n",
    "        self.port = port\r\n",
    "        self.conn = None\r\n",
    "    \r\n",
    "    def __enter__(self):\r\n",
    "        if self.ip:\r\n",
    "            print(f\"正在连接 {self.ip} ...\")\r\n",
    "            return self.conn\r\n",
    "        else:\r\n",
    "            raise \"信息不全，无法连接\"\r\n",
    "        \r\n",
    "# __exit__() 方法的第三个参数包含了异常类型、异常值和追溯信息 (如果有的话)\r\n",
    "#     def __exit__(self, exc_type, exc_value, tracebalk):\r\n",
    "    def __exit__(self, *args):\r\n",
    "#         msg = {\"exc_type\":exc_type,\r\n",
    "#                \"exc_value\":exc_value,\r\n",
    "#                \"tracebalk\":tracebalk}\r\n",
    "        self.conn = \"连接关闭\"\r\n",
    "        print(self.conn)\r\n",
    "#         print(msg)\r\n",
    "#        如果返回内容为 True，就不会报出错误信息\r\n",
    "#         return args"
   ],
   "outputs": [],
   "metadata": {}
  },
  {
   "cell_type": "code",
   "execution_count": null,
   "source": [
    "a = A(ip=\"1.1.1.1\")\r\n",
    "with a as aa:\r\n",
    "    print(\"执行命令 xxxxx\")\r\n",
    "    raise Exception(\"错误执行\")"
   ],
   "outputs": [],
   "metadata": {}
  },
  {
   "cell_type": "code",
   "execution_count": null,
   "source": [
    "class A:\r\n",
    "    def spam(self):\r\n",
    "        print(\"A.spam\")\r\n",
    "        super().spam()"
   ],
   "outputs": [],
   "metadata": {}
  },
  {
   "cell_type": "markdown",
   "source": [
    "### 添加类属性 property"
   ],
   "metadata": {}
  },
  {
   "cell_type": "code",
   "execution_count": null,
   "source": [
    "class Person:\r\n",
    "    def __init__(self, first_name) -> None:\r\n",
    "        self.first_name = first_name\r\n",
    "    \r\n",
    "    # getter 方法\r\n",
    "    @property\r\n",
    "    def first_name(self):\r\n",
    "        return self._first_name\r\n",
    "    # setter 方法\r\n",
    "    @first_name.setter\r\n",
    "    def first_name(self, value):\r\n",
    "        if not isinstance(value, str):\r\n",
    "            raise TypeError(\"必须是一个字符串\")\r\n",
    "        self._first_name = value\r\n",
    "    # deleter 方法\r\n",
    "    @first_name.deleter\r\n",
    "    def first_name(self):\r\n",
    "        raise AttributeError(\"不能删除这个属性\")"
   ],
   "outputs": [],
   "metadata": {}
  },
  {
   "cell_type": "markdown",
   "source": [
    "上面代码中有三个相关联的方法，三个方法的名字必须一样：\r\n",
    "- 第一个方法是一个 getter 函数，使 first_name 方法变成了一个属性\r\n",
    "- 其他两个方法给 first_name 属性添加了 setter 和 deleter 函数\r\n",
    "- 只有在 first_name 属性被创建后，后面的两个装饰器才能被定义使用"
   ],
   "metadata": {}
  },
  {
   "cell_type": "code",
   "execution_count": null,
   "source": [
    "a = Person(\"张三\")\r\n",
    "a.first_na"
   ],
   "outputs": [],
   "metadata": {}
  },
  {
   "cell_type": "code",
   "execution_count": null,
   "source": [
    "a.first_name = 18"
   ],
   "outputs": [],
   "metadata": {}
  },
  {
   "cell_type": "code",
   "execution_count": null,
   "source": [
    "del a.first_name"
   ],
   "outputs": [],
   "metadata": {}
  },
  {
   "cell_type": "markdown",
   "source": [
    "### 简化数据结构的初始化\r\n",
    "\r\n",
    "当你需要使用大量很小的数据结构类的时候，相比手工一个个定义 `__init__()` 方法，可以在基类中写一个公用的 `__init__()` 函数，子类继承父类实现，使用这种方式可以大大简化代码："
   ],
   "metadata": {}
  },
  {
   "cell_type": "code",
   "execution_count": 42,
   "source": [
    "class Structure1:\r\n",
    "    _fields = []\r\n",
    "\r\n",
    "    def __init__(self, *args) -> None:\r\n",
    "        if len(args) != len(self._fields):\r\n",
    "            raise TypeError(f\"需要传入 {len(self._fields)} 个参数。\")\r\n",
    "        for name, value in zip(self._fields, args):\r\n",
    "            setattr(self, name, value)"
   ],
   "outputs": [],
   "metadata": {}
  },
  {
   "cell_type": "code",
   "execution_count": 41,
   "source": [
    "# 然后定义数据结构相关的类，继承基类\r\n",
    "class Person(Structure1):\r\n",
    "    _fields = [\"name\", \"age\", \"sex\"]\r\n",
    "\r\n",
    "a = Person(\"张三\", 18, \"男\")\r\n",
    "a.__dict__"
   ],
   "outputs": [
    {
     "output_type": "execute_result",
     "data": {
      "text/plain": [
       "{'name': '张三', 'age': 18, 'sex': '男'}"
      ]
     },
     "metadata": {},
     "execution_count": 41
    }
   ],
   "metadata": {}
  },
  {
   "cell_type": "markdown",
   "source": [
    "### 定义接口或者抽象基类\r\n",
    "\r\n",
    "使用 `abc` 模块定义一个抽象基类，并且通过执行类型检查来确保子类实现某些特定的方法。"
   ],
   "metadata": {}
  },
  {
   "cell_type": "code",
   "execution_count": null,
   "source": [
    "from abc import ABCMeta, abstractmethod\r\n",
    "\r\n",
    "class IStream(metaclass=ABCMeta):\r\n",
    "    @abstractmethod\r\n",
    "    def read(self, maxbyte=-1):\r\n",
    "        pass\r\n",
    "    @abstractmethod\r\n",
    "    def write(self, data):\r\n",
    "        pass\r\n",
    "# 抽象类不能被实例化，它的目的是让别的类继承它并实现特定的抽象方法\r\n",
    "a = IStream()"
   ],
   "outputs": [],
   "metadata": {}
  },
  {
   "cell_type": "code",
   "execution_count": 45,
   "source": [
    "# 抽象基类还用来检查某些类是否为特定的类型\r\n",
    "def serialize(obj, stream):\r\n",
    "    if not isinstance(stream, IStream):\r\n",
    "        raise TypeError(\"类型错误，应该是 IStream\")\r\n",
    "    pass\r\n",
    "\r\n",
    "# 除了继承，还能通过注册的方式来让某个类实现抽象基类\r\n",
    "import io\r\n",
    "IStream.register(io.IOBase)"
   ],
   "outputs": [
    {
     "output_type": "execute_result",
     "data": {
      "text/plain": [
       "io.IOBase"
      ]
     },
     "metadata": {},
     "execution_count": 45
    }
   ],
   "metadata": {}
  },
  {
   "cell_type": "code",
   "execution_count": null,
   "source": [],
   "outputs": [],
   "metadata": {}
  },
  {
   "cell_type": "markdown",
   "source": [
    "## 元编程\r\n",
    "\r\n",
    "### 装饰器"
   ],
   "metadata": {}
  },
  {
   "cell_type": "code",
   "execution_count": null,
   "source": [
    "import time\r\n",
    "from functools import wraps\r\n",
    "\r\n",
    "def timethis(func):\r\n",
    "    @wraps(func)\r\n",
    "    def wrapper(*args, **kwargs):\r\n",
    "        start = time.time()\r\n",
    "        result = func(*args, **kwargs)\r\n",
    "        end = time.time()\r\n",
    "        print(f\"执行共花费时间 {end - start}s\")\r\n",
    "        return result\r\n",
    "    return wrapper\r\n"
   ],
   "outputs": [],
   "metadata": {}
  },
  {
   "cell_type": "code",
   "execution_count": 51,
   "source": [
    "@timethis\r\n",
    "def count(n):\r\n",
    "    while n > 0:\r\n",
    "        n -= 1\r\n",
    "count(10000000)"
   ],
   "outputs": [
    {
     "output_type": "stream",
     "name": "stdout",
     "text": [
      "执行共花费时间 0.7779171466827393s\n"
     ]
    }
   ],
   "metadata": {}
  },
  {
   "cell_type": "markdown",
   "source": [
    "**装饰器执行的时候，被装饰函数会被当做第一个参数直接传递给 timethis 函数，所以，timethis 中的第一个参数就是被包装函数本身。**"
   ],
   "metadata": {}
  },
  {
   "cell_type": "code",
   "execution_count": 12,
   "source": [
    "def count1(n):\r\n",
    "    while n > 0:\r\n",
    "        n -= 1\r\n",
    "count1 = timethis(count1)\r\n",
    "count1(10000000)"
   ],
   "outputs": [
    {
     "output_type": "stream",
     "name": "stdout",
     "text": [
      "执行共花费时间 0.7739660739898682s\n"
     ]
    }
   ],
   "metadata": {}
  },
  {
   "cell_type": "markdown",
   "source": [
    "### 创建装饰器时保留函数元信息\r\n",
    "\r\n",
    "任何时候你定义装饰器的时候，都应该使用 functools 库中的 @wraps 装饰器来注解底层包装函数，来保留函数的元信息，例如名字、文档字符串、注解、参数签名等。"
   ],
   "metadata": {}
  },
  {
   "cell_type": "code",
   "execution_count": 5,
   "source": [
    "# 添加函数的文档字符串\r\n",
    "import time\r\n",
    "from functools import wraps\r\n",
    "\r\n",
    "def timethis(func):\r\n",
    "    '''\r\n",
    "    一个用来统计运行时间的装饰器\r\n",
    "    '''\r\n",
    "    @wraps(func)\r\n",
    "    def wrapper(*args, **kwargs):\r\n",
    "        start = time.time()\r\n",
    "        result = func(*args, **kwargs)\r\n",
    "        end = time.time()\r\n",
    "        print(f\"执行共花费时间 {end - start}s\")\r\n",
    "        return result\r\n",
    "    return wrapper\r\n",
    "\r\n",
    "@timethis\r\n",
    "def count(n):\r\n",
    "    '''一个用来倒数计数的函数'''\r\n",
    "    while n > 0:\r\n",
    "        n -= 1\r\n",
    "    print(\"执行完成\")"
   ],
   "outputs": [],
   "metadata": {}
  },
  {
   "cell_type": "code",
   "execution_count": 79,
   "source": [
    "# 如果注释掉上面代码中的 @wraps(func) ，那么函数的名字就是 'wrapper'，原来函数的名字就被装饰器替换掉了。\r\n",
    "count.__name__"
   ],
   "outputs": [
    {
     "output_type": "execute_result",
     "data": {
      "text/plain": [
       "'count'"
      ]
     },
     "metadata": {},
     "execution_count": 79
    }
   ],
   "metadata": {}
  },
  {
   "cell_type": "markdown",
   "source": [
    "### 解除装饰器\r\n",
    "\r\n",
    "一个装饰器已经作用在一个函数上了，如果想要取消装饰器，只执行原来的函数。\r\n",
    "\r\n",
    "假设装饰器是通过 `@wraps` 来实现的，那么可以通过访问 `__wrapped__` 属性来访问到原来的函数。"
   ],
   "metadata": {}
  },
  {
   "cell_type": "code",
   "execution_count": 80,
   "source": [
    "count(100000)"
   ],
   "outputs": [
    {
     "output_type": "stream",
     "name": "stdout",
     "text": [
      "执行完成\n",
      "执行共花费时间 0.012969732284545898s\n"
     ]
    }
   ],
   "metadata": {}
  },
  {
   "cell_type": "code",
   "execution_count": 81,
   "source": [
    "count.__wrapped__(100000)"
   ],
   "outputs": [
    {
     "output_type": "stream",
     "name": "stdout",
     "text": [
      "执行完成\n"
     ]
    }
   ],
   "metadata": {}
  },
  {
   "cell_type": "markdown",
   "source": [
    "### 带参数的装饰器"
   ],
   "metadata": {}
  },
  {
   "cell_type": "code",
   "execution_count": 13,
   "source": [
    "from functools import wraps\r\n",
    "import logging\r\n",
    "\r\n",
    "def logged(level, name=None, message=None):\r\n",
    "    def decorate(func):\r\n",
    "        logging.basicConfig(level=level)\r\n",
    "        logname = name if name else func.__module__\r\n",
    "        logger = logging.getLogger(logname)\r\n",
    "        logmsg = message if message else func.__name__\r\n",
    "\r\n",
    "        @wraps(func)\r\n",
    "        def wrapper(*args, **kwargs):\r\n",
    "            logger.log(level, logmsg)\r\n",
    "            return func(*args, **kwargs)\r\n",
    "        return wrapper\r\n",
    "    return decorate"
   ],
   "outputs": [],
   "metadata": {}
  },
  {
   "cell_type": "code",
   "execution_count": 95,
   "source": [
    "@logged(level=logging.DEBUG,name=\"加法函数\", message=\"加法\")\r\n",
    "def add(x, y):\r\n",
    "    return x + y\r\n",
    "\r\n",
    "add(1, 2)"
   ],
   "outputs": [
    {
     "output_type": "stream",
     "name": "stderr",
     "text": [
      "DEBUG:加法函数:加法\n"
     ]
    },
    {
     "output_type": "execute_result",
     "data": {
      "text/plain": [
       "3"
      ]
     },
     "metadata": {},
     "execution_count": 95
    }
   ],
   "metadata": {}
  },
  {
   "cell_type": "markdown",
   "source": [
    "使用带参数的装饰器时，运行效果等同于：`logged(level=logging.DEBUG,name=\"加法函数\", message=\"加法\")(spam)`\r\n",
    "- 先带参数运行 logged，返回值是内层的装饰器：`decorate`\r\n",
    "- 内层装饰器再把被装饰器函数传入并执行：`decorate(spam)`\r\n",
    "\r\n",
    "带参数的装饰器必须要传递参数"
   ],
   "metadata": {}
  },
  {
   "cell_type": "markdown",
   "source": [
    "### 可以让用户自定义属性的装饰器\r\n",
    "\r\n",
    "写一个装饰器来包装一个函数，并且允许用户提供参数在运行时控制装饰器行为，使用 nonlocal 修改内部变量，并将一个访问函数作为一个属性赋值给包装函数。"
   ],
   "metadata": {}
  },
  {
   "cell_type": "code",
   "execution_count": 24,
   "source": [
    "from functools import wraps, partial\r\n",
    "import logging\r\n",
    "\r\n",
    "def attach_wrapper(obj, func=None):\r\n",
    "    if func is None:\r\n",
    "        print(\"执行了 partial\")\r\n",
    "        return partial(attach_wrapper, obj)\r\n",
    "    setattr(obj, func.__name__, func)\r\n",
    "    print(\"执行了 setattr \")\r\n",
    "    return func\r\n",
    "\r\n",
    "def logged(level, name=None, message=None):\r\n",
    "    def decorate(func):\r\n",
    "        logging.basicConfig(level=level)\r\n",
    "        logname = name if name else func.__module__\r\n",
    "        logger = logging.getLogger(logname)\r\n",
    "        logmsg = message if message else func.__name__\r\n",
    "\r\n",
    "        @wraps(func)\r\n",
    "        def wrapper(*args, **kwargs):\r\n",
    "            logger.log(level, logmsg)\r\n",
    "            return func(*args, **kwargs)\r\n",
    "        \r\n",
    "        @attach_wrapper(wrapper)\r\n",
    "        def set_level(newlevel):\r\n",
    "            nonlocal level\r\n",
    "            level = newlevel\r\n",
    "        return wrapper\r\n",
    "    return decorate\r\n"
   ],
   "outputs": [],
   "metadata": {}
  },
  {
   "cell_type": "code",
   "execution_count": 25,
   "source": [
    "# @timethis\r\n",
    "@logged(logging.DEBUG)\r\n",
    "def add(x, y):\r\n",
    "    return x + y\r\n",
    "\r\n",
    "add(2,3)"
   ],
   "outputs": [
    {
     "output_type": "stream",
     "name": "stderr",
     "text": [
      "DEBUG:__main__:add\n"
     ]
    },
    {
     "output_type": "stream",
     "name": "stdout",
     "text": [
      "执行了 partial\n",
      "执行了 setattr \n"
     ]
    },
    {
     "output_type": "execute_result",
     "data": {
      "text/plain": [
       "5"
      ]
     },
     "metadata": {},
     "execution_count": 25
    }
   ],
   "metadata": {}
  },
  {
   "cell_type": "code",
   "execution_count": 105,
   "source": [
    "add.set_level(logging.WARNING)"
   ],
   "outputs": [],
   "metadata": {}
  },
  {
   "cell_type": "code",
   "execution_count": 106,
   "source": [
    "add(2,3)"
   ],
   "outputs": [
    {
     "output_type": "stream",
     "name": "stderr",
     "text": [
      "WARNING:__main__:add\n"
     ]
    },
    {
     "output_type": "execute_result",
     "data": {
      "text/plain": [
       "5"
      ]
     },
     "metadata": {},
     "execution_count": 106
    }
   ],
   "metadata": {}
  },
  {
   "cell_type": "markdown",
   "source": [
    "### 带可选参数的装饰器\r\n",
    "\r\n",
    "写一个装饰器，既可以不传参使用，比如 `@decorator`，也可以传递可选参数使用，比如 `decorator(x, y, z)`。"
   ],
   "metadata": {}
  },
  {
   "cell_type": "code",
   "execution_count": 40,
   "source": [
    "# 对上一节中的带参数的装饰器进行修改\r\n",
    "from functools import partial, wraps\r\n",
    "import logging\r\n",
    "\r\n",
    "def logged(func=None, *, level=logging.DEBUG, name=None, message=None):\r\n",
    "    if func is None:\r\n",
    "        print(f\"partial 运行了\")\r\n",
    "        return partial(logged, level=level, name=name, message=message)\r\n",
    "    print(f\"partial 没有运行，传入的函数是 {func.__name__}\")\r\n",
    "    logname = name if name else func.__module__\r\n",
    "    log = logging.getLogger(logname)\r\n",
    "    logmsg = message if message else func.__name__\r\n",
    "\r\n",
    "    @wraps(func)\r\n",
    "    def wrapper(*args, **kwargs):\r\n",
    "        log.log(level, logmsg)\r\n",
    "        print(f\"{func.__name__} 执行了\")\r\n",
    "        return func(*args, **kwargs)\r\n",
    "    return wrapper\r\n"
   ],
   "outputs": [],
   "metadata": {}
  },
  {
   "cell_type": "code",
   "execution_count": 42,
   "source": [
    "@logged\r\n",
    "def add(x, y):\r\n",
    "    return x + y\r\n",
    "\r\n",
    "add(1, 3)"
   ],
   "outputs": [
    {
     "output_type": "stream",
     "name": "stderr",
     "text": [
      "DEBUG:__main__:add\n"
     ]
    },
    {
     "output_type": "stream",
     "name": "stdout",
     "text": [
      "partial 没有运行，传入的函数是 add\n",
      "add 执行了\n"
     ]
    },
    {
     "output_type": "execute_result",
     "data": {
      "text/plain": [
       "4"
      ]
     },
     "metadata": {},
     "execution_count": 42
    }
   ],
   "metadata": {}
  },
  {
   "cell_type": "code",
   "execution_count": 43,
   "source": [
    "@logged(level=logging.WARNING,message=\"example\")\r\n",
    "def foo():\r\n",
    "    print(\"foo\")\r\n",
    "\r\n",
    "foo()"
   ],
   "outputs": [
    {
     "output_type": "stream",
     "name": "stderr",
     "text": [
      "WARNING:__main__:example\n"
     ]
    },
    {
     "output_type": "stream",
     "name": "stdout",
     "text": [
      "partial 运行了\n",
      "partial 没有运行，传入的函数是 foo\n",
      "foo 执行了\n",
      "foo\n"
     ]
    }
   ],
   "metadata": {}
  },
  {
   "cell_type": "code",
   "execution_count": 44,
   "source": [
    "import webbrowser\r\n",
    "\r\n",
    "webbrowser.open(\"www.baidu.com\")"
   ],
   "outputs": [
    {
     "output_type": "execute_result",
     "data": {
      "text/plain": [
       "True"
      ]
     },
     "metadata": {},
     "execution_count": 44
    }
   ],
   "metadata": {}
  },
  {
   "cell_type": "code",
   "execution_count": null,
   "source": [],
   "outputs": [],
   "metadata": {}
  }
 ],
 "metadata": {
  "kernelspec": {
   "name": "python3",
   "display_name": "Python 3.8.10 64-bit"
  },
  "language_info": {
   "codemirror_mode": {
    "name": "ipython",
    "version": 3
   },
   "file_extension": ".py",
   "mimetype": "text/x-python",
   "name": "python",
   "nbconvert_exporter": "python",
   "pygments_lexer": "ipython3",
   "version": "3.8.10"
  },
  "interpreter": {
   "hash": "1baa965d5efe3ac65b79dfc60c0d706280b1da80fedb7760faf2759126c4f253"
  }
 },
 "nbformat": 4,
 "nbformat_minor": 5
}