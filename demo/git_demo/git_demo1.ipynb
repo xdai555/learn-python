{
 "cells": [
  {
   "cell_type": "markdown",
   "metadata": {},
   "source": [
    "[官网文档](https://gitpython.readthedocs.io/en/stable/tutorial.html)"
   ]
  },
  {
   "cell_type": "code",
   "execution_count": 30,
   "metadata": {},
   "outputs": [],
   "source": [
    "import logging\n",
    "import git\n",
    "import os\n",
    "logging.basicConfig(level=logging.DEBUG)"
   ]
  },
  {
   "cell_type": "markdown",
   "metadata": {},
   "source": [
    "创建一个仓库目录"
   ]
  },
  {
   "cell_type": "code",
   "execution_count": 19,
   "metadata": {},
   "outputs": [
    {
     "name": "stdout",
     "output_type": "stream",
     "text": [
      "/root/learn-python/demo/git_demo/my_repo\n"
     ]
    }
   ],
   "source": [
    "# root_dir = os.path.abspath(os.path.dirname(__file__))\n",
    "root_dir = os.getcwd()\n",
    "my_repo_dir = os.path.join(root_dir,\"my_repo\")\n",
    "print(my_repo_dir)"
   ]
  },
  {
   "cell_type": "code",
   "execution_count": 20,
   "metadata": {},
   "outputs": [
    {
     "name": "stderr",
     "output_type": "stream",
     "text": [
      "DEBUG:git.cmd:Popen(['git', 'init'], cwd=/root/learn-python/demo/git_demo/my_repo, universal_newlines=False, shell=None, istream=None)\n"
     ]
    },
    {
     "name": "stdout",
     "output_type": "stream",
     "text": [
      "False\n"
     ]
    }
   ],
   "source": [
    "# 创建一个仓库，返回 Repo 对象\n",
    "my_repo = git.Repo.init(my_repo_dir)\n",
    "print(my_repo.bare)"
   ]
  },
  {
   "cell_type": "markdown",
   "metadata": {},
   "source": [
    "[What is a bare git repository?](https://www.saintsjd.com/2011/01/what-is-a-bare-git-repository/)"
   ]
  },
  {
   "cell_type": "code",
   "execution_count": 21,
   "metadata": {},
   "outputs": [
    {
     "name": "stderr",
     "output_type": "stream",
     "text": [
      "DEBUG:git.cmd:Popen(['git', 'init', '--bare'], cwd=/root/learn-python/demo/git_demo/my_bare_repo, universal_newlines=False, shell=None, istream=None)\n"
     ]
    },
    {
     "name": "stdout",
     "output_type": "stream",
     "text": [
      "True\n"
     ]
    }
   ],
   "source": [
    "# 创建一个 bare 仓库，返回 Repo 对象\n",
    "bare_repo_dir = os.path.join(root_dir,\"my_bare_repo\")\n",
    "bare_repo = git.Repo.init(repo_dir, bare=True)\n",
    "print(bare_repo.bare)"
   ]
  },
  {
   "cell_type": "code",
   "execution_count": 39,
   "metadata": {},
   "outputs": [
    {
     "name": "stderr",
     "output_type": "stream",
     "text": [
      "DEBUG:git.cmd:Popen(['git', 'diff', '--cached', '--abbrev=40', '--full-index', '--raw'], cwd=/root/learn-python/demo/git_demo/my_repo, universal_newlines=False, shell=None, istream=None)\n"
     ]
    },
    {
     "data": {
      "text/plain": [
       "True"
      ]
     },
     "execution_count": 39,
     "metadata": {},
     "output_type": "execute_result"
    }
   ],
   "source": [
    "# 检查仓库是否是 dirty，即存在没有提交的文件\n",
    "my_repo.is_dirty()\n"
   ]
  },
  {
   "cell_type": "code",
   "execution_count": 40,
   "metadata": {},
   "outputs": [
    {
     "name": "stderr",
     "output_type": "stream",
     "text": [
      "DEBUG:git.cmd:Popen(['git', 'diff', '--cached', '--abbrev=40', '--full-index', '--raw'], cwd=/root/learn-python/demo/git_demo/my_repo, universal_newlines=False, shell=None, istream=None)\n"
     ]
    },
    {
     "data": {
      "text/plain": [
       "True"
      ]
     },
     "execution_count": 40,
     "metadata": {},
     "output_type": "execute_result"
    }
   ],
   "source": [
    "# 新建一个文件，再次查看 is_dirty() 属性\n",
    "file_name = os.path.join(my_repo_dir,\"readme.md\")\n",
    "open(file_name,'wb').close()\n",
    "# my_repo.index.add([file_name])\n",
    "my_repo.is_dirty()"
   ]
  },
  {
   "cell_type": "code",
   "execution_count": 41,
   "metadata": {},
   "outputs": [
    {
     "name": "stderr",
     "output_type": "stream",
     "text": [
      "DEBUG:git.cmd:Popen(['git', 'status', '--porcelain', '--untracked-files'], cwd=/root/learn-python/demo/git_demo/my_repo, universal_newlines=False, shell=None, istream=None)\n"
     ]
    },
    {
     "data": {
      "text/plain": [
       "[]"
      ]
     },
     "execution_count": 41,
     "metadata": {},
     "output_type": "execute_result"
    }
   ],
   "source": [
    "# 查看未提交的文件\n",
    "my_repo.untracked_files"
   ]
  }
 ],
 "metadata": {
  "interpreter": {
   "hash": "b9ad67ebd6cda51a6170d8f3102c2ab5635d4edf4d086fb17b0c03dbb914c2a6"
  },
  "kernelspec": {
   "display_name": "Python 3.8.12 64-bit",
   "language": "python",
   "name": "python3"
  },
  "language_info": {
   "codemirror_mode": {
    "name": "ipython",
    "version": 3
   },
   "file_extension": ".py",
   "mimetype": "text/x-python",
   "name": "python",
   "nbconvert_exporter": "python",
   "pygments_lexer": "ipython3",
   "version": "3.8.12"
  },
  "orig_nbformat": 4
 },
 "nbformat": 4,
 "nbformat_minor": 2
}
