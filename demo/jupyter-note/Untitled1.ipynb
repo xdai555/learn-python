{
 "cells": [
  {
   "cell_type": "code",
   "execution_count": 61,
   "id": "255fa122-8807-4bf7-a23c-5a47e5caaa3b",
   "metadata": {},
   "outputs": [],
   "source": [
    "class A():\n",
    "    def __init__(self,v):\n",
    "        self.__a = a\n",
    "    \n",
    "    @property\n",
    "    def a(self):\n",
    "        return self.__a\n",
    "    @a.setter\n",
    "    def a(self,v):\n",
    "        self.__a = v\n",
    "    @a.deleter\n",
    "    def a(self):\n",
    "        self.__a = -1"
   ]
  },
  {
   "cell_type": "code",
   "execution_count": 7,
   "id": "7febdd98-7538-4626-a734-48352dbf4eb4",
   "metadata": {},
   "outputs": [
    {
     "name": "stdout",
     "output_type": "stream",
     "text": [
      "['__bool__', '__class__', '__contains__', '__copy__', '__deepcopy__', '__delattr__', '__delitem__', '__dir__', '__doc__', '__eq__', '__format__', '__ge__', '__getattribute__', '__getitem__', '__gt__', '__hash__', '__init__', '__init_subclass__', '__iter__', '__le__', '__len__', '__lt__', '__ne__', '__new__', '__reduce__', '__reduce_ex__', '__repr__', '__reversed__', '__setattr__', '__setitem__', '__sizeof__', '__str__', '__subclasshook__', '_init', 'addnext', 'addprevious', 'append', 'attrib', 'base', 'clear', 'cssselect', 'extend', 'find', 'findall', 'findtext', 'get', 'getchildren', 'getiterator', 'getnext', 'getparent', 'getprevious', 'getroottree', 'index', 'insert', 'items', 'iter', 'iterancestors', 'iterchildren', 'iterdescendants', 'iterfind', 'itersiblings', 'itertext', 'keys', 'makeelement', 'nsmap', 'prefix', 'remove', 'replace', 'set', 'sourceline', 'tag', 'tail', 'text', 'values', 'xpath']\n"
     ]
    }
   ],
   "source": [
    "xml = '<?xml version=\"1.0\" encoding=\"UTF-8\"?><rpc-reply xmlns=\"urn:ietf:params:xml:ns:netconf:base:1.0\" message-id=\"urn:uuid:f0e8ab82-0907-4941-93f0-1cb93ce68852\"><data><top xmlns=\"http://www.h3c.com/netconf/data:1.0\"><Ifmgr><Interfaces><Interface><IfIndex>1</IfIndex><Name>GigabitEthernet0/0</Name><AdminStatus>1</AdminStatus><InetAddressIPV4>192.168.56.20</InetAddressIPV4></Interface><Interface><IfIndex>2</IfIndex><Name>GigabitEthernet0/1</Name><AdminStatus>1</AdminStatus><InetAddressIPV4>1.1.1.1</InetAddressIPV4></Interface><Interface><IfIndex>3</IfIndex><Name>GigabitEthernet0/2</Name><AdminStatus>1</AdminStatus></Interface><Interface><IfIndex>4</IfIndex><Name>Serial1/0</Name><AdminStatus>1</AdminStatus></Interface><Interface><IfIndex>5</IfIndex><Name>Serial2/0</Name><AdminStatus>1</AdminStatus></Interface><Interface><IfIndex>6</IfIndex><Name>Serial3/0</Name><AdminStatus>1</AdminStatus></Interface><Interface><IfIndex>7</IfIndex><Name>Serial4/0</Name><AdminStatus>1</AdminStatus></Interface><Interface><IfIndex>8</IfIndex><Name>GigabitEthernet5/0</Name><AdminStatus>1</AdminStatus></Interface><Interface><IfIndex>9</IfIndex><Name>GigabitEthernet5/1</Name><AdminStatus>1</AdminStatus></Interface><Interface><IfIndex>10</IfIndex><Name>GigabitEthernet6/0</Name><AdminStatus>1</AdminStatus></Interface><Interface><IfIndex>11</IfIndex><Name>GigabitEthernet6/1</Name><AdminStatus>1</AdminStatus></Interface><Interface><IfIndex>129</IfIndex><Name>NULL0</Name><AdminStatus>1</AdminStatus></Interface><Interface><IfIndex>130</IfIndex><Name>InLoopBack0</Name><AdminStatus>1</AdminStatus><InetAddressIPV4>127.0.0.1</InetAddressIPV4></Interface><Interface><IfIndex>131</IfIndex><Name>Register-Tunnel0</Name><AdminStatus>1</AdminStatus></Interface></Interfaces></Ifmgr></top></data></rpc-reply>'\n",
    "from lxml import etree\n",
    "e = etree.XML(xml.encode())\n",
    "print(dir(e))"
   ]
  },
  {
   "cell_type": "code",
   "execution_count": 13,
   "id": "06f36d0b-0bee-490b-8a74-20b504a95e80",
   "metadata": {},
   "outputs": [],
   "source": [
    "e.xpath\n",
    "\n",
    "BASE_NS_1_0 = \"urn:ietf:params:xml:ns:netconf:base:1.0\"\n",
    "H3C_BASE_1_0 = \"http://www.h3c.com/netconf/base:1.0\"\n",
    "H3C_CONFIG_1_0 = \"http://www.h3c.com/netconf/config:1.0\"\n",
    "H3C_DATA_1_0 = \"http://www.h3c.com/netconf/data:1.0\"\n",
    "H3C_DATA_1_0_C = '{' + H3C_DATA_1_0 + '}'\n",
    "H3C_ACTION_1_0 = \"http://www.h3c.com/netconf/action:1.0\""
   ]
  },
  {
   "cell_type": "code",
   "execution_count": 9,
   "id": "f514b378-6fd8-4ada-b95f-f7fcddf72de3",
   "metadata": {},
   "outputs": [
    {
     "name": "stdout",
     "output_type": "stream",
     "text": [
      "GigabitEthernet0/0\n"
     ]
    }
   ],
   "source": [
    "start = xml.index(\"<Name>\") + len(\"<Name>\")\n",
    "end = xml.index(\"</Name>\")\n",
    "print(xml[start:end])"
   ]
  },
  {
   "cell_type": "code",
   "execution_count": 49,
   "id": "e6dfa8e3-30d4-4e58-b3bc-4858312426ea",
   "metadata": {},
   "outputs": [],
   "source": [
    "iter_name = e.iterfind(\".//{http://www.h3c.com/netconf/data:1.0}Interface\")\n",
    "a = next(iter_name)"
   ]
  },
  {
   "cell_type": "code",
   "execution_count": 52,
   "id": "0de04be1-8716-4104-b88f-9c595a018835",
   "metadata": {},
   "outputs": [
    {
     "data": {
      "text/plain": [
       "['__bool__',\n",
       " '__class__',\n",
       " '__contains__',\n",
       " '__copy__',\n",
       " '__deepcopy__',\n",
       " '__delattr__',\n",
       " '__delitem__',\n",
       " '__dir__',\n",
       " '__doc__',\n",
       " '__eq__',\n",
       " '__format__',\n",
       " '__ge__',\n",
       " '__getattribute__',\n",
       " '__getitem__',\n",
       " '__gt__',\n",
       " '__hash__',\n",
       " '__init__',\n",
       " '__init_subclass__',\n",
       " '__iter__',\n",
       " '__le__',\n",
       " '__len__',\n",
       " '__lt__',\n",
       " '__ne__',\n",
       " '__new__',\n",
       " '__reduce__',\n",
       " '__reduce_ex__',\n",
       " '__repr__',\n",
       " '__reversed__',\n",
       " '__setattr__',\n",
       " '__setitem__',\n",
       " '__sizeof__',\n",
       " '__str__',\n",
       " '__subclasshook__',\n",
       " '_init',\n",
       " 'addnext',\n",
       " 'addprevious',\n",
       " 'append',\n",
       " 'attrib',\n",
       " 'base',\n",
       " 'clear',\n",
       " 'cssselect',\n",
       " 'extend',\n",
       " 'find',\n",
       " 'findall',\n",
       " 'findtext',\n",
       " 'get',\n",
       " 'getchildren',\n",
       " 'getiterator',\n",
       " 'getnext',\n",
       " 'getparent',\n",
       " 'getprevious',\n",
       " 'getroottree',\n",
       " 'index',\n",
       " 'insert',\n",
       " 'items',\n",
       " 'iter',\n",
       " 'iterancestors',\n",
       " 'iterchildren',\n",
       " 'iterdescendants',\n",
       " 'iterfind',\n",
       " 'itersiblings',\n",
       " 'itertext',\n",
       " 'keys',\n",
       " 'makeelement',\n",
       " 'nsmap',\n",
       " 'prefix',\n",
       " 'remove',\n",
       " 'replace',\n",
       " 'set',\n",
       " 'sourceline',\n",
       " 'tag',\n",
       " 'tail',\n",
       " 'text',\n",
       " 'values',\n",
       " 'xpath']"
      ]
     },
     "execution_count": 52,
     "metadata": {},
     "output_type": "execute_result"
    }
   ],
   "source": [
    "dir(a)"
   ]
  },
  {
   "cell_type": "code",
   "execution_count": 173,
   "id": "34dbe595-069b-4efb-8193-1bc4fbcc418b",
   "metadata": {},
   "outputs": [
    {
     "data": {
      "text/plain": [
       "<Element {http://www.h3c.com/netconf/data:1.0}Interface at 0x7fef98290680>"
      ]
     },
     "execution_count": 173,
     "metadata": {},
     "output_type": "execute_result"
    }
   ],
   "source": [
    "import xmltodict,json\n",
    "ret = e.findall(\".//{http://www.h3c.com/netconf/data:1.0}Interface\")\n",
    "a = ret[0]\n",
    "a"
   ]
  },
  {
   "cell_type": "code",
   "execution_count": 191,
   "id": "08f99f7c-664e-40f6-9eb1-7d99a566a950",
   "metadata": {},
   "outputs": [
    {
     "data": {
      "text/plain": [
       "{'IfIndex': '1',\n",
       " 'Name': 'GigabitEthernet0/0',\n",
       " 'AdminStatus': '1',\n",
       " 'InetAddressIPV4': '192.168.56.20'}"
      ]
     },
     "execution_count": 191,
     "metadata": {},
     "output_type": "execute_result"
    }
   ],
   "source": [
    "r = {}\n",
    "for i in a.getchildren():\n",
    "    r[i.tag.replace('{' + i.nsmap[None] + '}','')] = i.text\n",
    "r"
   ]
  },
  {
   "cell_type": "code",
   "execution_count": 102,
   "id": "afd6dd66-7f7c-43dc-83c5-9b6a58119b71",
   "metadata": {},
   "outputs": [
    {
     "name": "stdout",
     "output_type": "stream",
     "text": [
      "urn:ietf:params:xml:ns:netconf:base:1.0\n",
      "http://www.h3c.com/netconf/data:1.0\n",
      "http://www.h3c.com/netconf/data:1.0\n",
      "http://www.h3c.com/netconf/data:1.0\n",
      "http://www.h3c.com/netconf/data:1.0\n",
      "http://www.h3c.com/netconf/data:1.0\n"
     ]
    }
   ],
   "source": [
    "OrderedDict([('Interface', [OrderedDict([('@xmlns', 'http://www.h3c.com/netconf/data:1.0'), ('IfIndex', '4'), ('Name', 'Serial1/0'), ('AdminStatus', '1')])])])\n",
    "OrderedDict([('Interface', OrderedDict([('@xmlns', 'http://www.h3c.com/netconf/data:1.0'), ('IfIndex', '4'), ('Name', 'Serial1/0'), ('AdminStatus', '1')]))])"
   ]
  },
  {
   "cell_type": "code",
   "execution_count": 156,
   "id": "80992270-012f-4ea9-8876-e15e4b3942b0",
   "metadata": {},
   "outputs": [
    {
     "data": {
      "text/plain": [
       "['__class__',\n",
       " '__contains__',\n",
       " '__delattr__',\n",
       " '__delitem__',\n",
       " '__dir__',\n",
       " '__doc__',\n",
       " '__eq__',\n",
       " '__format__',\n",
       " '__ge__',\n",
       " '__getattribute__',\n",
       " '__getitem__',\n",
       " '__gt__',\n",
       " '__hash__',\n",
       " '__init__',\n",
       " '__init_subclass__',\n",
       " '__iter__',\n",
       " '__le__',\n",
       " '__len__',\n",
       " '__lt__',\n",
       " '__ne__',\n",
       " '__new__',\n",
       " '__reduce__',\n",
       " '__reduce_ex__',\n",
       " '__repr__',\n",
       " '__reversed__',\n",
       " '__setattr__',\n",
       " '__setitem__',\n",
       " '__sizeof__',\n",
       " '__str__',\n",
       " '__subclasshook__',\n",
       " 'clear',\n",
       " 'copy',\n",
       " 'fromkeys',\n",
       " 'get',\n",
       " 'items',\n",
       " 'keys',\n",
       " 'pop',\n",
       " 'popitem',\n",
       " 'setdefault',\n",
       " 'update',\n",
       " 'values']"
      ]
     },
     "execution_count": 156,
     "metadata": {},
     "output_type": "execute_result"
    }
   ],
   "source": [
    "iface_config = {'Interface': {'admin': '1','description': 'configured by hpcmw7',}}\n",
    "xmltodict.unparse(iface_config)\n",
    "dir(iface_config)"
   ]
  },
  {
   "cell_type": "code",
   "execution_count": null,
   "id": "b8d3b4a8-635d-47e5-bd58-ea31476e4357",
   "metadata": {},
   "outputs": [],
   "source": []
  }
 ],
 "metadata": {
  "kernelspec": {
   "display_name": "Python 3",
   "language": "python",
   "name": "python3"
  },
  "language_info": {
   "codemirror_mode": {
    "name": "ipython",
    "version": 3
   },
   "file_extension": ".py",
   "mimetype": "text/x-python",
   "name": "python",
   "nbconvert_exporter": "python",
   "pygments_lexer": "ipython3",
   "version": "3.8.0"
  }
 },
 "nbformat": 4,
 "nbformat_minor": 5
}
